{
 "cells": [
  {
   "metadata": {
    "ExecuteTime": {
     "end_time": "2025-10-16T20:29:12.007527Z",
     "start_time": "2025-10-16T20:29:11.992038Z"
    }
   },
   "cell_type": "code",
   "source": [
    "import random\n",
    "\n",
    "#Weight Value\n",
    "items = [\n",
    "    (11, 4),\n",
    "    (7, 1),\n",
    "    (18, 48),\n",
    "    (18, 19),\n",
    "    (5, 2),\n",
    "    (7, 30),\n",
    "    (20, 7),\n",
    "    (15, 30),\n",
    "    (5, 6),\n",
    "    (18, 12),\n",
    "    (17, 8),\n",
    "    (11, 3),\n",
    "    (20, 12),\n",
    "    (3, 23),\n",
    "    (10, 33),\n",
    "    (3, 22),\n",
    "    (3, 48),\n",
    "    (2, 23),\n",
    "    (18, 36),\n",
    "    (7, 9),\n",
    "    (7, 40),\n",
    "    (1, 30),\n",
    "    (9, 30),\n",
    "    (11, 49),\n",
    "    (19, 27),\n",
    "    (17, 4),\n",
    "    (10, 29),\n",
    "    (17, 48),\n",
    "    (5, 31),\n",
    "    (6, 17),\n",
    "    (3, 23),\n",
    "    (7, 6),\n",
    "    (12, 44),\n",
    "    (4, 5),\n",
    "    (7, 15),\n",
    "    (9, 50),\n",
    "    (9, 11),\n",
    "    (5, 38),\n",
    "    (16, 8),\n",
    "    (9, 8),\n",
    "    (16, 42),\n",
    "    (20, 40),\n",
    "    (3, 13),\n",
    "    (3, 12),\n",
    "    (18, 28),\n",
    "    (17, 17),\n",
    "    (9, 39),\n",
    "    (16, 39),\n",
    "    (13, 37),\n",
    "    (8, 11),\n",
    "    (4, 15),\n",
    "    (8, 47),\n",
    "    (10, 39),\n",
    "    (5, 34),\n",
    "    (9, 12),\n",
    "    (18, 37),\n",
    "    (9, 43),\n",
    "    (18, 8),\n",
    "    (12, 14),\n",
    "    (17, 3),\n",
    "    (9, 49),\n",
    "    (6, 27),\n",
    "    (1, 28),\n",
    "    (17, 32),\n",
    "    (20, 41),\n",
    "    (9, 8),\n",
    "    (20, 14),\n",
    "    (10, 30),\n",
    "    (4, 26),\n",
    "    (3, 4),\n",
    "    (3, 29),\n",
    "    (13, 36),\n",
    "    (6, 37),\n",
    "    (10, 2),\n",
    "    (17, 15),\n",
    "    (2, 46),\n",
    "    (4, 31),\n",
    "    (4, 31),\n",
    "    (11, 33),\n",
    "    (13, 49),\n",
    "    (5, 35),\n",
    "    (1, 17),\n",
    "    (5, 40),\n",
    "    (6, 50),\n",
    "    (4, 18),\n",
    "    (20, 9),\n",
    "    (9, 5),\n",
    "    (10, 13),\n",
    "    (10, 50),\n",
    "    (13, 24),\n",
    "    (9, 29),\n",
    "    (1, 30),\n",
    "    (20, 16),\n",
    "    (11, 3),\n",
    "    (18, 25),\n",
    "    (13, 32),\n",
    "    (16, 22),\n",
    "    (11, 3),\n",
    "    (7, 35),\n",
    "    (1, 27)]"
   ],
   "id": "2c156c5954fbed40",
   "outputs": [],
   "execution_count": 115
  },
  {
   "metadata": {},
   "cell_type": "markdown",
   "source": [
    "Knapsack\n",
    "    init knapsack as empty\n",
    "\n",
    "    While Knapsack weight is less than max weight,\n",
    "        put an item in the knapsack if the item isn't in the knapsack\n"
   ],
   "id": "e478eb301e87bb93"
  },
  {
   "metadata": {
    "ExecuteTime": {
     "end_time": "2025-10-16T20:30:22.091060Z",
     "start_time": "2025-10-16T20:30:22.081922Z"
    }
   },
   "cell_type": "code",
   "source": [
    "def weigh_knapsack(knapsack):\n",
    "\n",
    "    weight = 0\n",
    "    for item_num in knapsack:\n",
    "        weight += items[item_num][0]\n",
    "    return weight\n"
   ],
   "id": "b6805b3ceaffdfad",
   "outputs": [],
   "execution_count": 124
  },
  {
   "metadata": {
    "ExecuteTime": {
     "end_time": "2025-10-16T20:30:22.385752Z",
     "start_time": "2025-10-16T20:30:22.377339Z"
    }
   },
   "cell_type": "code",
   "source": [
    "def eval_knapsack(knapsack):\n",
    "\n",
    "    value = 0\n",
    "    for item_num in knapsack:\n",
    "        value += items[item_num][1]\n",
    "\n",
    "    return value"
   ],
   "id": "a85db782d39f8706",
   "outputs": [],
   "execution_count": 125
  },
  {
   "metadata": {
    "ExecuteTime": {
     "end_time": "2025-10-16T20:30:22.607499Z",
     "start_time": "2025-10-16T20:30:22.600582Z"
    }
   },
   "cell_type": "code",
   "source": [
    "def outside_items(knapsack):\n",
    "    outside_items = []\n",
    "\n",
    "    for i in range(len(items)):\n",
    "\n",
    "        if i not in knapsack:\n",
    "            outside_items.append(i)\n",
    "\n",
    "    return outside_items"
   ],
   "id": "36e99b12e7ec5f3f",
   "outputs": [],
   "execution_count": 126
  },
  {
   "metadata": {
    "ExecuteTime": {
     "end_time": "2025-10-16T20:30:50.439562Z",
     "start_time": "2025-10-16T20:30:50.427275Z"
    }
   },
   "cell_type": "code",
   "source": [
    "def knapsack_algo(offspring_count, threshold = 300, best_boy = None,layer = 0):\n",
    "\n",
    "    if best_boy is None:\n",
    "        best_boy = []\n",
    "\n",
    "    base_weight = weigh_knapsack(best_boy)\n",
    "    best_score = eval_knapsack(best_boy)\n",
    "    best_knapsack = best_boy\n",
    "\n",
    "    out_list = outside_items(best_boy)\n",
    "\n",
    "    for i in range(offspring_count):\n",
    "\n",
    "        current_knapsack = best_boy.copy()\n",
    "        item_index = random.sample(out_list, 1)[0]\n",
    "        out_item_weight = items[item_index][0]\n",
    "        current_weight = base_weight\n",
    "\n",
    "        while current_weight + out_item_weight > threshold:\n",
    "            random_removed = random.sample(current_knapsack, 1)[0]\n",
    "            current_knapsack.remove(random_removed)\n",
    "            current_weight = weigh_knapsack(current_knapsack)\n",
    "\n",
    "        current_knapsack.append(item_index)\n",
    "        current_value = eval_knapsack(current_knapsack)\n",
    "\n",
    "        if current_value > best_score:\n",
    "            best_knapsack = current_knapsack\n",
    "            best_score = current_value\n",
    "\n",
    "    if best_knapsack == best_boy or layer >= 100:\n",
    "        return best_knapsack, best_score, layer\n",
    "    else:\n",
    "        return knapsack_algo(offspring_count, threshold = 300, best_boy=best_knapsack, layer=layer + 1)\n"
   ],
   "id": "1e280f8605fd9f5f",
   "outputs": [],
   "execution_count": 130
  },
  {
   "metadata": {
    "ExecuteTime": {
     "end_time": "2025-10-16T20:31:20.984363Z",
     "start_time": "2025-10-16T20:31:20.957350Z"
    }
   },
   "cell_type": "code",
   "source": [
    "final_sack = knapsack_algo(offspring_count=100, threshold=300)\n",
    "\n",
    "final_sack"
   ],
   "id": "84d6850292195f64",
   "outputs": [
    {
     "data": {
      "text/plain": [
       "([35,\n",
       "  88,\n",
       "  83,\n",
       "  60,\n",
       "  79,\n",
       "  23,\n",
       "  27,\n",
       "  16,\n",
       "  51,\n",
       "  32,\n",
       "  2,\n",
       "  56,\n",
       "  64,\n",
       "  75,\n",
       "  40,\n",
       "  46,\n",
       "  41,\n",
       "  82,\n",
       "  52,\n",
       "  20,\n",
       "  47,\n",
       "  48,\n",
       "  72,\n",
       "  55,\n",
       "  37,\n",
       "  18,\n",
       "  80,\n",
       "  53],\n",
       " 1195,\n",
       " 28)"
      ]
     },
     "execution_count": 132,
     "metadata": {},
     "output_type": "execute_result"
    }
   ],
   "execution_count": 132
  }
 ],
 "metadata": {
  "kernelspec": {
   "display_name": "Python 3",
   "language": "python",
   "name": "python3"
  },
  "language_info": {
   "codemirror_mode": {
    "name": "ipython",
    "version": 2
   },
   "file_extension": ".py",
   "mimetype": "text/x-python",
   "name": "python",
   "nbconvert_exporter": "python",
   "pygments_lexer": "ipython2",
   "version": "2.7.6"
  }
 },
 "nbformat": 4,
 "nbformat_minor": 5
}
