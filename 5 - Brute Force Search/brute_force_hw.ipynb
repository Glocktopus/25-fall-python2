{
 "cells": [
  {
   "cell_type": "code",
   "execution_count": null,
   "id": "initial_id",
   "metadata": {
    "collapsed": true
   },
   "outputs": [],
   "source": ""
  },
  {
   "metadata": {},
   "cell_type": "markdown",
   "source": [
    "Palindromic Product\n",
    "\n",
    "    input int n\n",
    "    for outer_int in a range counting from 1 to 10^n-1\n",
    "      for inner_int in a range counting from outer_int to 10^n-1\n",
    "        if outer_int * inner_int is a palindromic product save the two ints\n",
    "\n",
    "Palindromic Product Improved\n",
    "\n",
    "    input int n\n",
    "    for outer_int in a range counting from 1 to 10^n-1\n",
    "\n",
    "        if outer_int squared is smaller than the current largest leave the loop\n",
    "\n",
    "        for inner_int in a range counting from outer_int to 1\n",
    "            get inner and outer ints product\n",
    "            if their product is larger than the current max\n",
    "                test for palindrome and if it is save it as the current max\n",
    "            if the product is smaller go back the the outer loop\n",
    "\n",
    "    return the current max\n",
    "\n",
    "\n",
    "\n",
    " TEST:\n",
    "\n",
    "    input candidate_int\n",
    "    turn candidate_int into a string\n",
    "    return True if candidate_int is the same forward and backward"
   ],
   "id": "222eb049bd5419b1"
  },
  {
   "metadata": {
    "ExecuteTime": {
     "end_time": "2025-09-30T19:15:14.401088Z",
     "start_time": "2025-09-30T19:15:14.396930Z"
    }
   },
   "cell_type": "code",
   "source": [
    "def palindromic_test(tested_int:int) -> bool:\n",
    "    test_int = str(tested_int)\n",
    "    return test_int == ''.join(reversed(test_int))"
   ],
   "id": "16fd5a34418f337a",
   "outputs": [],
   "execution_count": 1
  },
  {
   "metadata": {
    "ExecuteTime": {
     "end_time": "2025-09-30T19:15:34.229444Z",
     "start_time": "2025-09-30T19:15:34.225866Z"
    }
   },
   "cell_type": "code",
   "source": "palindromic_test(1)",
   "id": "e38f362607c94e11",
   "outputs": [
    {
     "data": {
      "text/plain": [
       "True"
      ]
     },
     "execution_count": 6,
     "metadata": {},
     "output_type": "execute_result"
    }
   ],
   "execution_count": 6
  },
  {
   "metadata": {
    "ExecuteTime": {
     "end_time": "2025-09-30T19:23:25.838632Z",
     "start_time": "2025-09-30T19:23:25.835398Z"
    }
   },
   "cell_type": "code",
   "source": [
    "def palindromic_products(n:int):\n",
    "    max_int = (10**n)\n",
    "    biggest_multiples = None\n",
    "    for a in range(max_int):\n",
    "        for b in range(a, max_int):\n",
    "            if palindromic_test(a*b):\n",
    "                biggest_multiples = (a,b)\n",
    "    return biggest_multiples"
   ],
   "id": "106237fa2f39fb5b",
   "outputs": [],
   "execution_count": 16
  },
  {
   "metadata": {
    "ExecuteTime": {
     "end_time": "2025-09-30T19:35:52.203799Z",
     "start_time": "2025-09-30T19:32:16.624094Z"
    }
   },
   "cell_type": "code",
   "source": "palindromic_products(5)",
   "id": "9eb24c7e0e340b04",
   "outputs": [
    {
     "ename": "KeyboardInterrupt",
     "evalue": "",
     "output_type": "error",
     "traceback": [
      "\u001B[31m---------------------------------------------------------------------------\u001B[39m",
      "\u001B[31mKeyboardInterrupt\u001B[39m                         Traceback (most recent call last)",
      "\u001B[36mCell\u001B[39m\u001B[36m \u001B[39m\u001B[32mIn[29]\u001B[39m\u001B[32m, line 1\u001B[39m\n\u001B[32m----> \u001B[39m\u001B[32m1\u001B[39m \u001B[43mpalindromic_products\u001B[49m\u001B[43m(\u001B[49m\u001B[32;43m5\u001B[39;49m\u001B[43m)\u001B[49m\n",
      "\u001B[36mCell\u001B[39m\u001B[36m \u001B[39m\u001B[32mIn[16]\u001B[39m\u001B[32m, line 6\u001B[39m, in \u001B[36mpalindromic_products\u001B[39m\u001B[34m(n)\u001B[39m\n\u001B[32m      4\u001B[39m \u001B[38;5;28;01mfor\u001B[39;00m a \u001B[38;5;129;01min\u001B[39;00m \u001B[38;5;28mrange\u001B[39m(max_int):\n\u001B[32m      5\u001B[39m     \u001B[38;5;28;01mfor\u001B[39;00m b \u001B[38;5;129;01min\u001B[39;00m \u001B[38;5;28mrange\u001B[39m(a, max_int):\n\u001B[32m----> \u001B[39m\u001B[32m6\u001B[39m         \u001B[38;5;28;01mif\u001B[39;00m \u001B[43mpalindromic_test\u001B[49m\u001B[43m(\u001B[49m\u001B[43ma\u001B[49m\u001B[43m*\u001B[49m\u001B[43mb\u001B[49m\u001B[43m)\u001B[49m:\n\u001B[32m      7\u001B[39m             biggest_multiples = (a,b)\n\u001B[32m      8\u001B[39m \u001B[38;5;28;01mreturn\u001B[39;00m biggest_multiples\n",
      "\u001B[36mCell\u001B[39m\u001B[36m \u001B[39m\u001B[32mIn[1]\u001B[39m\u001B[32m, line 2\u001B[39m, in \u001B[36mpalindromic_test\u001B[39m\u001B[34m(tested_int)\u001B[39m\n\u001B[32m      1\u001B[39m \u001B[38;5;28;01mdef\u001B[39;00m\u001B[38;5;250m \u001B[39m\u001B[34mpalindromic_test\u001B[39m(tested_int:\u001B[38;5;28mint\u001B[39m) -> \u001B[38;5;28mbool\u001B[39m:\n\u001B[32m----> \u001B[39m\u001B[32m2\u001B[39m     test_int = \u001B[38;5;28;43mstr\u001B[39;49m\u001B[43m(\u001B[49m\u001B[43mtested_int\u001B[49m\u001B[43m)\u001B[49m\n\u001B[32m      3\u001B[39m     \u001B[38;5;28;01mreturn\u001B[39;00m test_int == \u001B[33m'\u001B[39m\u001B[33m'\u001B[39m.join(\u001B[38;5;28mreversed\u001B[39m(test_int))\n",
      "\u001B[31mKeyboardInterrupt\u001B[39m: "
     ]
    }
   ],
   "execution_count": 29
  },
  {
   "metadata": {
    "ExecuteTime": {
     "end_time": "2025-09-30T19:38:05.479954Z",
     "start_time": "2025-09-30T19:38:05.476273Z"
    }
   },
   "cell_type": "code",
   "source": [
    "def palindromic_products_improved(n:int):\n",
    "    max_int = (10**n)\n",
    "    biggest_multiples = None\n",
    "    current_max = 0\n",
    "    for a in reversed(range(max_int)):\n",
    "        if a**2 < current_max:\n",
    "            break\n",
    "        for b in reversed(range(a)):\n",
    "            product = a*b\n",
    "            if product > current_max:\n",
    "                if palindromic_test(product):\n",
    "                    biggest_multiples = (a,b)\n",
    "                    current_max = a*b\n",
    "            else:\n",
    "                break\n",
    "    print(biggest_multiples)\n",
    "    return current_max"
   ],
   "id": "9664781b2be08096",
   "outputs": [],
   "execution_count": 39
  },
  {
   "metadata": {
    "ExecuteTime": {
     "end_time": "2025-09-30T19:39:53.828397Z",
     "start_time": "2025-09-30T19:38:14.948293Z"
    }
   },
   "cell_type": "code",
   "source": "palindromic_products_improved(7)\n",
   "id": "d67aeb7c20441c5e",
   "outputs": [
    {
     "name": "stdout",
     "output_type": "stream",
     "text": [
      "(9998017, 9997647)\n"
     ]
    },
    {
     "data": {
      "text/plain": [
       "99956644665999"
      ]
     },
     "execution_count": 41,
     "metadata": {},
     "output_type": "execute_result"
    }
   ],
   "execution_count": 41
  },
  {
   "metadata": {},
   "cell_type": "markdown",
   "source": [
    "Primes List\n",
    "\n",
    "    input int n\n",
    "    Empty list of tracked primes\n",
    "        for each number less than n and not 1:\n",
    "            for each prime in tracked primes:\n",
    "                if n modulo prime is not zero\n",
    "                    leave the loop\n",
    "                if there were no primes that divided n\n",
    "                add n to the list\n",
    "\n",
    "    return the list\n"
   ],
   "id": "8d3a265a22b484ce"
  },
  {
   "metadata": {
    "ExecuteTime": {
     "end_time": "2025-09-30T19:53:28.388096Z",
     "start_time": "2025-09-30T19:53:28.384187Z"
    }
   },
   "cell_type": "code",
   "source": [
    "def prime_list(n:int) -> list:\n",
    "    primes_list = []\n",
    "    for integer in range(2, n+1):\n",
    "        potential = True\n",
    "        for prime in primes_list:\n",
    "            if integer % prime == 0:\n",
    "                potential = False\n",
    "\n",
    "                break\n",
    "        if potential:\n",
    "            print(integer)\n",
    "            primes_list.append(integer)\n",
    "\n",
    "    return primes_list"
   ],
   "id": "dd6294a69898d08",
   "outputs": [],
   "execution_count": 49
  },
  {
   "metadata": {
    "ExecuteTime": {
     "end_time": "2025-09-30T19:53:28.696670Z",
     "start_time": "2025-09-30T19:53:28.691983Z"
    }
   },
   "cell_type": "code",
   "source": "prime_list(19)",
   "id": "abd192c02d98149c",
   "outputs": [
    {
     "name": "stdout",
     "output_type": "stream",
     "text": [
      "2\n",
      "3\n",
      "5\n",
      "7\n",
      "11\n",
      "13\n",
      "17\n",
      "19\n"
     ]
    },
    {
     "data": {
      "text/plain": [
       "[2, 3, 5, 7, 11, 13, 17, 19]"
      ]
     },
     "execution_count": 50,
     "metadata": {},
     "output_type": "execute_result"
    }
   ],
   "execution_count": 50
  },
  {
   "metadata": {},
   "cell_type": "code",
   "outputs": [],
   "execution_count": null,
   "source": "",
   "id": "44d2f5ca22ef84"
  }
 ],
 "metadata": {
  "kernelspec": {
   "display_name": "Python 3",
   "language": "python",
   "name": "python3"
  },
  "language_info": {
   "codemirror_mode": {
    "name": "ipython",
    "version": 2
   },
   "file_extension": ".py",
   "mimetype": "text/x-python",
   "name": "python",
   "nbconvert_exporter": "python",
   "pygments_lexer": "ipython2",
   "version": "2.7.6"
  }
 },
 "nbformat": 4,
 "nbformat_minor": 5
}
