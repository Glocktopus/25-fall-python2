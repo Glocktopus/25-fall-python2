{
 "cells": [
  {
   "metadata": {},
   "cell_type": "markdown",
   "source": [
    "Overlap\n",
    "\n",
    "    abcd and bcdeab should combine to abcdeab not bcdeabcd with an o"
   ],
   "id": "e275fd297fc17f2f"
  },
  {
   "cell_type": "code",
   "id": "initial_id",
   "metadata": {
    "collapsed": true,
    "ExecuteTime": {
     "end_time": "2025-10-02T20:32:31.579466Z",
     "start_time": "2025-10-02T20:32:31.573915Z"
    }
   },
   "source": [
    "# def string_overlap(st1:str, st2:str):\n",
    "#     overlap = 0\n",
    "#     combined_string = \"\"\n",
    "#\n",
    "#     for index, char in enumerate(st2):\n",
    "#         sub_string_2 = st2[index:]\n",
    "#\n",
    "#         if sub_string_2 in st1:\n",
    "#\n",
    "#             start_index = st1.find(sub_string_2)\n",
    "#             end_index = start_index + (len(sub_string_2))\n",
    "#\n",
    "#             if end_index > len(st1):\n",
    "#                 print(\"full_length\")\n",
    "#                 sub_string_1 = st1[start_index:]\n",
    "#             else:\n",
    "#                 print(\"end early\")\n",
    "#                 sub_string_1 = st1[start_index:end_index]\n",
    "#\n",
    "#             sub_string_2 = st2[index:]\n",
    "#\n",
    "#             if sub_string_1 == sub_string_2 and len(sub_string_1) > overlap:\n",
    "#                 overlap = len(sub_string_1)\n",
    "#                 combined_string = st2 + st1[end_index:]\n",
    "#                 print(f\"combined_string:{combined_string}, string 1: {st2}, string 2: {st1}\")\n",
    "#\n",
    "#         return overlap, combined_string"
   ],
   "outputs": [],
   "execution_count": 82
  },
  {
   "metadata": {
    "ExecuteTime": {
     "end_time": "2025-10-07T19:57:41.965987Z",
     "start_time": "2025-10-07T19:57:41.958645Z"
    }
   },
   "cell_type": "code",
   "source": [
    "def string_overlap(string_1, string_2):\n",
    "    overlap = 0\n",
    "    combined_string = \"\"\n",
    "\n",
    "    if len(string_1) > len(string_2):\n",
    "        big_string = string_1\n",
    "        small_string = string_2\n",
    "    else:\n",
    "        big_string = string_2\n",
    "        small_string = string_1\n",
    "\n",
    "    if small_string in big_string:\n",
    "        overlap = len(small_string)\n",
    "        combined_string = big_string\n",
    "        return overlap, combined_string\n",
    "\n",
    "    for i in range(1,len(small_string)):\n",
    "\n",
    "        small_front = small_string[:i]\n",
    "        small_back = small_string[i:]\n",
    "\n",
    "        big_front = big_string[:len(small_back)]\n",
    "        big_back = big_string[-i:]\n",
    "\n",
    "        if small_front == big_back and len(big_back) > overlap:\n",
    "            overlap = len(big_back)\n",
    "            combined_string = big_string + small_back\n",
    "\n",
    "        elif small_back == big_front and len(big_front) > overlap:\n",
    "            overlap = len(big_front)\n",
    "            combined_string = small_front + big_string\n",
    "\n",
    "    if overlap == 0:\n",
    "        combined_string = small_string + big_string\n",
    "\n",
    "    return overlap, combined_string\n"
   ],
   "id": "8d902d06c76c5360",
   "outputs": [],
   "execution_count": 68
  },
  {
   "metadata": {
    "ExecuteTime": {
     "end_time": "2025-10-07T19:57:43.584909Z",
     "start_time": "2025-10-07T19:57:43.578954Z"
    }
   },
   "cell_type": "code",
   "source": [
    "def greedy_shortest_superstring(str_list:list[str]) -> str:\n",
    "    in_list = str_list\n",
    "\n",
    "\n",
    "    while len(in_list) > 1:\n",
    "        list_of_overlap = []\n",
    "        max_overlap = 0\n",
    "        max_tuple_index = 0\n",
    "        for i in range(len(in_list)):\n",
    "            for j in range(i+1,len(in_list)):\n",
    "                overlap, combined_string = string_overlap(in_list[i], in_list[j])\n",
    "                overlap_tuple = (i, j, overlap, combined_string)\n",
    "\n",
    "                list_of_overlap.append(overlap_tuple)\n",
    "                if overlap > max_overlap:\n",
    "                    max_overlap = overlap\n",
    "                    max_tuple_index = len(list_of_overlap)-1\n",
    "\n",
    "        max_tuple = list_of_overlap[max_tuple_index]\n",
    "\n",
    "        del in_list[max_tuple[0]]\n",
    "        del in_list[max_tuple[1] - 1]\n",
    "        in_list.append(list_of_overlap[max_tuple_index][3])\n",
    "\n",
    "    return in_list[0]\n",
    "\n"
   ],
   "id": "730e1bb171ffe224",
   "outputs": [],
   "execution_count": 69
  },
  {
   "metadata": {
    "ExecuteTime": {
     "end_time": "2025-10-07T19:54:14.659314Z",
     "start_time": "2025-10-07T19:54:14.655296Z"
    }
   },
   "cell_type": "code",
   "source": "string_overlap('ABCDEF', 'BCDEFX')\n",
   "id": "89dad0758589f402",
   "outputs": [
    {
     "data": {
      "text/plain": [
       "(5, 'ABCDEFX')"
      ]
     },
     "execution_count": 62,
     "metadata": {},
     "output_type": "execute_result"
    }
   ],
   "execution_count": 62
  },
  {
   "metadata": {
    "ExecuteTime": {
     "end_time": "2025-10-07T19:57:49.200459Z",
     "start_time": "2025-10-07T19:57:49.192667Z"
    }
   },
   "cell_type": "code",
   "source": [
    "list_of_items = ['ABCDEF', 'BCDEFX', 'XCDEFY', 'DEFYZ']\n",
    "list_of_overlap = []\n",
    "for i in range(len(list_of_items)):\n",
    "\n",
    "    for j in range(i+1,len(list_of_items)):\n",
    "        overlap, combined_string = string_overlap(list_of_items[i], list_of_items[j])\n",
    "        overlap_tuple = (i, j, overlap, combined_string)\n",
    "\n",
    "        list_of_overlap.append(overlap_tuple)\n",
    "\n",
    "\n",
    "list_of_overlap"
   ],
   "id": "aee6f13a4ae406d4",
   "outputs": [
    {
     "data": {
      "text/plain": [
       "[(0, 1, 5, 'ABCDEFX'),\n",
       " (0, 2, 0, 'ABCDEFXCDEFY'),\n",
       " (0, 3, 3, 'ABCDEFYZ'),\n",
       " (1, 2, 1, 'BCDEFXCDEFY'),\n",
       " (1, 3, 0, 'DEFYZBCDEFX'),\n",
       " (2, 3, 4, 'XCDEFYZ')]"
      ]
     },
     "execution_count": 70,
     "metadata": {},
     "output_type": "execute_result"
    }
   ],
   "execution_count": 70
  },
  {
   "metadata": {
    "ExecuteTime": {
     "end_time": "2025-10-07T19:23:41.321057Z",
     "start_time": "2025-10-07T19:23:41.313546Z"
    }
   },
   "cell_type": "code",
   "source": "",
   "id": "dfc4533baff63236",
   "outputs": [],
   "execution_count": 54
  },
  {
   "metadata": {
    "ExecuteTime": {
     "end_time": "2025-10-07T19:54:34.527127Z",
     "start_time": "2025-10-07T19:54:34.521737Z"
    }
   },
   "cell_type": "code",
   "source": [
    "list_of_items = ['ABCDEF', 'BCDEFX', 'XCDEFY', 'DEFYZ']\n",
    "greedy_shortest_superstring(list_of_items)"
   ],
   "id": "b2e49be6e2ae5b3e",
   "outputs": [
    {
     "data": {
      "text/plain": [
       "'ABCDEFXCDEFYZ'"
      ]
     },
     "execution_count": 65,
     "metadata": {},
     "output_type": "execute_result"
    }
   ],
   "execution_count": 65
  },
  {
   "metadata": {
    "ExecuteTime": {
     "end_time": "2025-10-07T19:57:53.426359Z",
     "start_time": "2025-10-07T19:57:53.420419Z"
    }
   },
   "cell_type": "code",
   "source": [
    "loi = ['UV', 'VW', 'XY', 'YZ']\n",
    "greedy_shortest_superstring(loi)"
   ],
   "id": "939cee586602e476",
   "outputs": [
    {
     "data": {
      "text/plain": [
       "'UVWXYZ'"
      ]
     },
     "execution_count": 71,
     "metadata": {},
     "output_type": "execute_result"
    }
   ],
   "execution_count": 71
  },
  {
   "metadata": {},
   "cell_type": "code",
   "outputs": [],
   "execution_count": null,
   "source": "",
   "id": "afeddca689a424a1"
  }
 ],
 "metadata": {
  "kernelspec": {
   "display_name": "Python 3",
   "language": "python",
   "name": "python3"
  },
  "language_info": {
   "codemirror_mode": {
    "name": "ipython",
    "version": 2
   },
   "file_extension": ".py",
   "mimetype": "text/x-python",
   "name": "python",
   "nbconvert_exporter": "python",
   "pygments_lexer": "ipython2",
   "version": "2.7.6"
  }
 },
 "nbformat": 4,
 "nbformat_minor": 5
}
