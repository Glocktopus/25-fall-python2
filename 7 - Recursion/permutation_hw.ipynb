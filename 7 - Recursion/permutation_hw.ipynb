{
 "cells": [
  {
   "metadata": {
    "ExecuteTime": {
     "end_time": "2025-10-14T19:34:03.803621Z",
     "start_time": "2025-10-14T19:34:03.798904Z"
    }
   },
   "cell_type": "code",
   "source": [
    "from Demos.rastest import usage\n",
    "\n",
    "length_tilings = {1:[[1]],\n",
    "                  2:[[2],[1,1]],\n",
    "                  3:[[3],[2,1],[1,2],[1,1,1]],\n",
    "                  4:[[4],[3,1],[2,2],[2,1,1],[1,3],[1,2,1],[1,1,2],[1,1,1,1]]}"
   ],
   "id": "c7f450ec17c8441a",
   "outputs": [],
   "execution_count": 25
  },
  {
   "cell_type": "code",
   "id": "initial_id",
   "metadata": {
    "collapsed": true,
    "ExecuteTime": {
     "end_time": "2025-10-14T19:45:18.087694Z",
     "start_time": "2025-10-14T19:45:18.080664Z"
    }
   },
   "source": [
    "def generate_tilings(partial_tilings:list, length):\n",
    "    global length_tilings\n",
    "    if length in length_tilings:\n",
    "        tilings = length_tilings[length]\n",
    "        for i in range(len(partial_tilings)):\n",
    "            for j in range(len(tilings)):\n",
    "                print(tilings[j])\n",
    "                partial_tilings[i] = partial_tilings[i] + tilings[j]\n",
    "    else:\n",
    "\n",
    "\n",
    "    return(partial_tilings)\n"
   ],
   "outputs": [],
   "execution_count": 37
  },
  {
   "metadata": {
    "ExecuteTime": {
     "end_time": "2025-10-14T19:45:33.889822Z",
     "start_time": "2025-10-14T19:45:33.882879Z"
    }
   },
   "cell_type": "code",
   "source": "generate_tilings([[1,2,3]],1)",
   "id": "eb07ecb44ad0334a",
   "outputs": [
    {
     "name": "stdout",
     "output_type": "stream",
     "text": [
      "[1]\n"
     ]
    },
    {
     "data": {
      "text/plain": [
       "[[1, 2, 3, 1]]"
      ]
     },
     "execution_count": 39,
     "metadata": {},
     "output_type": "execute_result"
    }
   ],
   "execution_count": 39
  },
  {
   "metadata": {
    "ExecuteTime": {
     "end_time": "2025-10-14T20:01:50.089377Z",
     "start_time": "2025-10-14T20:01:50.085259Z"
    }
   },
   "cell_type": "code",
   "source": [
    "all_tilings = []\n",
    "def gen_tiling(partial_tiling:list, length):\n",
    "\n",
    "    if length == 0:\n",
    "        global all_tilings\n",
    "        all_tilings.append(partial_tiling)\n",
    "\n",
    "    else:\n",
    "        for i in range(1,min(length+1, 5)):\n",
    "            gen_tiling(partial_tiling + [i],length-i)\n",
    "\n",
    "\n",
    "\n"
   ],
   "id": "e403b95c706e9c9a",
   "outputs": [],
   "execution_count": 43
  },
  {
   "metadata": {
    "ExecuteTime": {
     "end_time": "2025-10-14T20:01:50.362222Z",
     "start_time": "2025-10-14T20:01:50.356020Z"
    }
   },
   "cell_type": "code",
   "source": [
    "gen_tiling([],4)\n",
    "all_tilings"
   ],
   "id": "7b3e4dae01a9a88a",
   "outputs": [
    {
     "name": "stdout",
     "output_type": "stream",
     "text": [
      "Tiling_found\n",
      "Tiling_found\n",
      "Tiling_found\n",
      "Tiling_found\n",
      "Tiling_found\n",
      "Tiling_found\n",
      "Tiling_found\n",
      "Tiling_found\n"
     ]
    },
    {
     "data": {
      "text/plain": [
       "[[1, 1, 1, 1], [1, 1, 2], [1, 2, 1], [1, 3], [2, 1, 1], [2, 2], [3, 1], [4]]"
      ]
     },
     "execution_count": 44,
     "metadata": {},
     "output_type": "execute_result"
    }
   ],
   "execution_count": 44
  },
  {
   "metadata": {
    "ExecuteTime": {
     "end_time": "2025-10-14T22:22:00.015043Z",
     "start_time": "2025-10-14T22:22:00.004240Z"
    }
   },
   "cell_type": "code",
   "source": [
    "all_sub_sums = []\n",
    "def subset_sum(chosen_ints:list[int], available_ints:list, target_sum:int):\n",
    "    in_ints = available_ints.copy()\n",
    "    in_ints.sort()\n",
    "    if target_sum == 0:\n",
    "        print('found')\n",
    "        all_sub_sums.append(chosen_ints)\n",
    "\n",
    "    elif len(in_ints) > 0:\n",
    "\n",
    "        if len(chosen_ints) > 0:\n",
    "            min_chosen = min(chosen_ints)\n",
    "        else:\n",
    "            min_chosen = 0\n",
    "        #find all ints smaller than\n",
    "        usable_ints = in_ints\n",
    "        for i in range(0,len(in_ints)):\n",
    "\n",
    "            if (in_ints[i] > min_chosen != 0) or in_ints[i] > target_sum:\n",
    "                usable_ints = in_ints[:i].copy()\n",
    "                print(f\"usables: {usable_ints}\")\n",
    "                break\n",
    "\n",
    "\n",
    "        for item in usable_ints:\n",
    "\n",
    "            new_chosen_ints = chosen_ints.copy() + [item]\n",
    "            new_available_ints = usable_ints.copy()\n",
    "            new_available_ints.remove(item)\n",
    "\n",
    "            subset_sum(new_chosen_ints,new_available_ints, target_sum - item)\n",
    "\n"
   ],
   "id": "49b4e7c8e141b738",
   "outputs": [],
   "execution_count": 113
  },
  {
   "metadata": {
    "ExecuteTime": {
     "end_time": "2025-10-14T22:22:00.370454Z",
     "start_time": "2025-10-14T22:22:00.358326Z"
    }
   },
   "cell_type": "code",
   "source": [
    "all_sub_sums = []\n",
    "into_ints = [2,1,3,4,5,6,7]\n",
    "subset_sum([],into_ints,6)\n",
    "all_sub_sums"
   ],
   "id": "e70411200ecfc0c4",
   "outputs": [
    {
     "name": "stdout",
     "output_type": "stream",
     "text": [
      "usables: [1, 2, 3, 4, 5, 6]\n",
      "new_inputs chosen: [1], available: [2, 3, 4, 5, 6], target_sum: 5\n",
      "usables: []\n",
      "new_inputs chosen: [2], available: [1, 3, 4, 5, 6], target_sum: 4\n",
      "usables: [1]\n",
      "new_inputs chosen: [2, 1], available: [], target_sum: 3\n",
      "new_inputs chosen: [3], available: [1, 2, 4, 5, 6], target_sum: 3\n",
      "usables: [1, 2]\n",
      "new_inputs chosen: [3, 1], available: [2], target_sum: 2\n",
      "usables: []\n",
      "new_inputs chosen: [3, 2], available: [1], target_sum: 1\n",
      "new_inputs chosen: [3, 2, 1], available: [], target_sum: 0\n",
      "found\n",
      "new_inputs chosen: [4], available: [1, 2, 3, 5, 6], target_sum: 2\n",
      "usables: [1, 2]\n",
      "new_inputs chosen: [4, 1], available: [2], target_sum: 1\n",
      "usables: []\n",
      "new_inputs chosen: [4, 2], available: [1], target_sum: 0\n",
      "found\n",
      "new_inputs chosen: [5], available: [1, 2, 3, 4, 6], target_sum: 1\n",
      "usables: [1]\n",
      "new_inputs chosen: [5, 1], available: [], target_sum: 0\n",
      "found\n",
      "new_inputs chosen: [6], available: [1, 2, 3, 4, 5], target_sum: 0\n",
      "found\n"
     ]
    },
    {
     "data": {
      "text/plain": [
       "[[3, 2, 1], [4, 2], [5, 1], [6]]"
      ]
     },
     "execution_count": 114,
     "metadata": {},
     "output_type": "execute_result"
    }
   ],
   "execution_count": 114
  },
  {
   "metadata": {
    "ExecuteTime": {
     "end_time": "2025-10-14T20:26:58.351366Z",
     "start_time": "2025-10-14T20:26:58.348856Z"
    }
   },
   "cell_type": "code",
   "source": "",
   "id": "f1cafedfe957c497",
   "outputs": [],
   "execution_count": null
  },
  {
   "metadata": {},
   "cell_type": "code",
   "outputs": [],
   "execution_count": null,
   "source": "",
   "id": "3bbfa2b8f909cc26"
  }
 ],
 "metadata": {
  "kernelspec": {
   "display_name": "Python 3",
   "language": "python",
   "name": "python3"
  },
  "language_info": {
   "codemirror_mode": {
    "name": "ipython",
    "version": 2
   },
   "file_extension": ".py",
   "mimetype": "text/x-python",
   "name": "python",
   "nbconvert_exporter": "python",
   "pygments_lexer": "ipython2",
   "version": "2.7.6"
  }
 },
 "nbformat": 4,
 "nbformat_minor": 5
}
