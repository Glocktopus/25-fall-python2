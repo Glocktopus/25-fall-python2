{
 "cells": [
  {
   "cell_type": "code",
   "execution_count": null,
   "id": "initial_id",
   "metadata": {
    "collapsed": true
   },
   "outputs": [],
   "source": [
    ""
   ]
  },
  {
   "metadata": {
    "ExecuteTime": {
     "end_time": "2025-10-07T22:05:32.364644Z",
     "start_time": "2025-10-07T22:05:32.357904Z"
    }
   },
   "cell_type": "code",
   "source": [
    "known_block_orders = {1:1,\n",
    "                      2:2,\n",
    "                      3:4,\n",
    "                      4:8}"
   ],
   "id": "9329198ae35ec70f",
   "outputs": [],
   "execution_count": 24
  },
  {
   "metadata": {},
   "cell_type": "markdown",
   "source": [
    "Visualize the row of blocks as a list that sums to n\n",
    "\n",
    "base case block_list =\n",
    "n = 1\n",
    "total arrangements = 1\n",
    "[1]\n",
    "n = 2\n",
    "total arrangements = 2\n",
    "[1,1],\n",
    "[2]\n",
    "n = 3\n",
    "total arrangements = 4\n",
    "[1,1,1],\n",
    "[2,1],\n",
    "[1,2],\n",
    "[3],\n",
    "n = 4\n",
    "total arrangements = 8\n",
    "[1,1,1,1],\n",
    "[2,1,1],\n",
    "[1,2,1],\n",
    "[1,1,2],\n",
    "[2,2],\n",
    "[3,1],\n",
    "[1,3],\n",
    "[4]\n"
   ],
   "id": "74776e8447f648b9"
  },
  {
   "metadata": {
    "ExecuteTime": {
     "end_time": "2025-10-07T22:05:32.847517Z",
     "start_time": "2025-10-07T22:05:32.839561Z"
    }
   },
   "cell_type": "code",
   "source": [
    "def recursive_blocks(n:int) -> int:\n",
    "    global known_block_orders\n",
    "\n",
    "    sum = 0\n",
    "    if n not in known_block_orders:\n",
    "        sum += recursive_blocks(n - 1)\n",
    "        sum += recursive_blocks(n - 2)\n",
    "        sum += recursive_blocks(n - 3)\n",
    "        sum += recursive_blocks(n - 4)\n",
    "\n",
    "        known_block_orders[n] = sum\n",
    "        return sum\n",
    "    else:\n",
    "        return known_block_orders[n]\n"
   ],
   "id": "f5ed79bd02fe4794",
   "outputs": [],
   "execution_count": 25
  },
  {
   "metadata": {
    "ExecuteTime": {
     "end_time": "2025-10-07T22:05:33.433546Z",
     "start_time": "2025-10-07T22:05:33.424583Z"
    }
   },
   "cell_type": "code",
   "source": "recursive_blocks(50)",
   "id": "c6ac3dba6c610239",
   "outputs": [
    {
     "data": {
      "text/plain": [
       "100808458960497"
      ]
     },
     "execution_count": 26,
     "metadata": {},
     "output_type": "execute_result"
    }
   ],
   "execution_count": 26
  },
  {
   "metadata": {},
   "cell_type": "markdown",
   "source": [
    "base case for sterling\n",
    "n = k, is 1 or k = 1 is 1\n",
    "if n or k = 0 return 0\n",
    "\n"
   ],
   "id": "3481c26f52325fe2"
  },
  {
   "metadata": {
    "ExecuteTime": {
     "end_time": "2025-10-07T22:05:04.416468Z",
     "start_time": "2025-10-07T22:05:04.409309Z"
    }
   },
   "cell_type": "code",
   "source": [
    "\n",
    "sterling_dict = {}"
   ],
   "id": "15d92837bb182b47",
   "outputs": [],
   "execution_count": 21
  },
  {
   "metadata": {
    "ExecuteTime": {
     "end_time": "2025-10-07T22:05:04.618847Z",
     "start_time": "2025-10-07T22:05:04.611248Z"
    }
   },
   "cell_type": "code",
   "source": [
    "def sterling_number_2(n,k):\n",
    "    global sterling_dict\n",
    "    key = (n,k)\n",
    "\n",
    "    if key in sterling_dict:\n",
    "        return sterling_dict[key]\n",
    "    elif n == k or k == 1:\n",
    "        return 1\n",
    "    elif n == 0 or k == 0:\n",
    "        return 0\n",
    "    else:\n",
    "        value = k*sterling_number_2(n - 1, k) + sterling_number_2(n - 1, k - 1)\n",
    "        sterling_dict[key] = value\n",
    "        return value\n",
    "\n"
   ],
   "id": "fc2eb66434e168a5",
   "outputs": [],
   "execution_count": 22
  },
  {
   "metadata": {
    "ExecuteTime": {
     "end_time": "2025-10-07T22:05:04.869403Z",
     "start_time": "2025-10-07T22:05:04.858414Z"
    }
   },
   "cell_type": "code",
   "source": "sterling_number_2(10,5)",
   "id": "ff2d2ff9a155eee2",
   "outputs": [
    {
     "data": {
      "text/plain": [
       "42525"
      ]
     },
     "execution_count": 23,
     "metadata": {},
     "output_type": "execute_result"
    }
   ],
   "execution_count": 23
  },
  {
   "metadata": {},
   "cell_type": "code",
   "outputs": [],
   "execution_count": null,
   "source": "",
   "id": "6d85248073634119"
  }
 ],
 "metadata": {
  "kernelspec": {
   "display_name": "Python 3",
   "language": "python",
   "name": "python3"
  },
  "language_info": {
   "codemirror_mode": {
    "name": "ipython",
    "version": 2
   },
   "file_extension": ".py",
   "mimetype": "text/x-python",
   "name": "python",
   "nbconvert_exporter": "python",
   "pygments_lexer": "ipython2",
   "version": "2.7.6"
  }
 },
 "nbformat": 4,
 "nbformat_minor": 5
}
