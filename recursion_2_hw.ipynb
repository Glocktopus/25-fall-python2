{
 "cells": [
  {
   "metadata": {},
   "cell_type": "markdown",
   "source": [
    "Mergesort Pseudocode\n",
    "\n",
    "    input list\n",
    "\n",
    "    if list is longer than 1\n",
    "        front half sorted = merge_sorted front half\n",
    "        back half sorted = merge_sorted back half\n",
    "\n",
    "            while length of sorted output is less than the length of input list\n",
    "                if front_half and back_half are not empty\n",
    "\n",
    "                    if front_half first value <= back_half first value\n",
    "                        put front_half first value in sorted output\n",
    "                    else\n",
    "                        put back_half first value in sorted output\n",
    "\n",
    "                else if front_half empty\n",
    "                    put the rest of back half in sorted output\n",
    "\n",
    "                else\n",
    "                    put the rest of front half in sorted output\n",
    "        output sorted output\n",
    "    else\n",
    "        output input_list\n"
   ],
   "id": "1b6a8f8de62162bf"
  },
  {
   "metadata": {
    "ExecuteTime": {
     "end_time": "2025-10-09T19:45:54.646402Z",
     "start_time": "2025-10-09T19:45:54.640898Z"
    }
   },
   "cell_type": "code",
   "source": [
    "def mergesort(input_list):\n",
    "    in_list = input_list\n",
    "    input_len = len(in_list)\n",
    "    if input_len <= 1:\n",
    "        return input_list\n",
    "    else:\n",
    "        sorted_output = []\n",
    "        front_half = mergesort(in_list[:input_len // 2])\n",
    "        back_half = mergesort(in_list[input_len // 2:])\n",
    "        while len(sorted_output) <= input_len:\n",
    "            if len(front_half) > 0 and len(back_half) > 0:\n",
    "                if front_half[0] < back_half[0]:\n",
    "                    sorted_output.append(front_half.pop(0))\n",
    "                else:\n",
    "                    sorted_output.append(back_half.pop(0))\n",
    "            elif len(front_half) == 0:\n",
    "                sorted_output = sorted_output + back_half\n",
    "                break\n",
    "            else:\n",
    "                sorted_output = sorted_output + front_half\n",
    "                break\n",
    "\n",
    "        return sorted_output\n"
   ],
   "id": "7e373dc829443b78",
   "outputs": [],
   "execution_count": 3
  },
  {
   "metadata": {
    "ExecuteTime": {
     "end_time": "2025-10-09T19:45:55.024449Z",
     "start_time": "2025-10-09T19:45:55.018898Z"
    }
   },
   "cell_type": "code",
   "source": "mergesort([6, 5, 5, 7, 4, 8, 3, 5, 1, 2, 9])",
   "id": "e1aa5a4fe7c136e7",
   "outputs": [
    {
     "data": {
      "text/plain": [
       "[1, 2, 3, 4, 5, 5, 5, 6, 7, 8, 9]"
      ]
     },
     "execution_count": 4,
     "metadata": {},
     "output_type": "execute_result"
    }
   ],
   "execution_count": 4
  },
  {
   "metadata": {},
   "cell_type": "markdown",
   "source": [
    "Recursive Selection Sort\n",
    "\n",
    "    Input List\n",
    "\n",
    "        if list is longer than 1\n",
    "            find the largest value in array\n",
    "\n",
    "            take it out of the array\n",
    "\n",
    "            call recursive selection sort on the rest of the array\n",
    "\n",
    "            output the sorted array with the seperated value appended\n",
    "        else\n",
    "            output the input list\n"
   ],
   "id": "aefefbd7c2e1f647"
  },
  {
   "metadata": {
    "ExecuteTime": {
     "end_time": "2025-10-09T19:45:46.360892Z",
     "start_time": "2025-10-09T19:45:46.356195Z"
    }
   },
   "cell_type": "code",
   "source": [
    "def selection_recursive(input_list:list) -> list:\n",
    "\n",
    "    in_list = input_list\n",
    "    input_len = len(in_list)\n",
    "    if input_len <= 1:\n",
    "        return input_list\n",
    "    else:\n",
    "        largest = in_list[0]\n",
    "        for item in in_list:\n",
    "            if item > largest:\n",
    "                largest = item\n",
    "\n",
    "        in_list.remove(largest)\n",
    "        sorted_output = selection_recursive(in_list)\n",
    "        sorted_output.append(largest)\n",
    "\n",
    "        return sorted_output\n"
   ],
   "id": "19d4e3798101263f",
   "outputs": [],
   "execution_count": 1
  },
  {
   "metadata": {
    "ExecuteTime": {
     "end_time": "2025-10-09T19:45:47.120668Z",
     "start_time": "2025-10-09T19:45:47.114336Z"
    }
   },
   "cell_type": "code",
   "source": "selection_recursive([6, 5, 5, 7, 4, 8, 3, 5, 1, 2, 9])",
   "id": "f5c044bf9c3ac301",
   "outputs": [
    {
     "data": {
      "text/plain": [
       "[1, 2, 3, 4, 5, 5, 5, 6, 7, 8, 9]"
      ]
     },
     "execution_count": 2,
     "metadata": {},
     "output_type": "execute_result"
    }
   ],
   "execution_count": 2
  },
  {
   "metadata": {},
   "cell_type": "code",
   "outputs": [],
   "execution_count": null,
   "source": "",
   "id": "f2d3bb2b4821c617"
  }
 ],
 "metadata": {
  "kernelspec": {
   "display_name": "Python 3",
   "language": "python",
   "name": "python3"
  },
  "language_info": {
   "codemirror_mode": {
    "name": "ipython",
    "version": 2
   },
   "file_extension": ".py",
   "mimetype": "text/x-python",
   "name": "python",
   "nbconvert_exporter": "python",
   "pygments_lexer": "ipython2",
   "version": "2.7.6"
  }
 },
 "nbformat": 4,
 "nbformat_minor": 5
}
