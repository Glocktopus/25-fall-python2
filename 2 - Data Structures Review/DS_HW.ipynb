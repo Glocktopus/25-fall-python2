{
 "cells": [
  {
   "cell_type": "code",
   "execution_count": 7,
   "id": "e65aab7a",
   "metadata": {},
   "outputs": [],
   "source": [
    "def histogram(string_list:list[str]) -> dict:\n",
    "    local_list = string_list\n",
    "    hist = {}\n",
    "    for string in local_list:\n",
    "        if string in hist:\n",
    "            hist[string] += 1\n",
    "        else:\n",
    "            hist[string] = 1\n",
    "    return hist"
   ]
  },
  {
   "cell_type": "code",
   "execution_count": 18,
   "id": "50b24660",
   "metadata": {},
   "outputs": [
    {
     "name": "stdout",
     "output_type": "stream",
     "text": [
      "{'word': 3, 'text': 1, 'string': 1}\n"
     ]
    }
   ],
   "source": [
    "test = histogram(['word', 'text', 'word', 'word', 'string'])\n",
    "print(test)"
   ]
  },
  {
   "cell_type": "code",
   "execution_count": null,
   "id": "61c5638c",
   "metadata": {},
   "outputs": [],
   "source": [
    "def reverse_tuple(tuple_set1:set[tuple], tuple_set2:set[tuple]):\n",
    "    tuple_list = [tuple_set1.pop()]\n",
    "    tuple_list.append(tuple_set1.pop())\n",
    "    for tuple_element in tuple_list:\n",
    "        reversed_tuple = {(tuple_element[1], tuple_element[0])}\n",
    "        if reversed_tuple.issubset(tuple_set2):\n",
    "            return True\n",
    "    return False"
   ]
  },
  {
   "cell_type": "code",
   "execution_count": 17,
   "id": "9d3e6195",
   "metadata": {},
   "outputs": [
    {
     "name": "stdout",
     "output_type": "stream",
     "text": [
      "True\n",
      "False\n"
     ]
    }
   ],
   "source": [
    "print(reverse_tuple({(1, 2), (3, 4)}, {(2, 1), (5, 6)}))\n",
    "print(reverse_tuple({(1, 2), (3, 4)}, {(1, 2), (2, 3)}))"
   ]
  }
 ],
 "metadata": {
  "kernelspec": {
   "display_name": "Python 3",
   "language": "python",
   "name": "python3"
  },
  "language_info": {
   "codemirror_mode": {
    "name": "ipython",
    "version": 3
   },
   "file_extension": ".py",
   "mimetype": "text/x-python",
   "name": "python",
   "nbconvert_exporter": "python",
   "pygments_lexer": "ipython3",
   "version": "3.12.1"
  }
 },
 "nbformat": 4,
 "nbformat_minor": 5
}
