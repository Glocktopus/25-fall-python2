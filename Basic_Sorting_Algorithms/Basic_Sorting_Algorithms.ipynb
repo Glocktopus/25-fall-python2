{
 "cells": [
  {
   "cell_type": "code",
   "id": "initial_id",
   "metadata": {
    "collapsed": true,
    "ExecuteTime": {
     "end_time": "2025-09-25T21:45:43.876945Z",
     "start_time": "2025-09-25T21:45:43.865177Z"
    }
   },
   "source": [
    "def insertion_sort(scrambled_list: list, asc = True) -> list:\n",
    "    if asc:\n",
    "        for i in range(1, len(scrambled_list)):\n",
    "            # the key is set to sorted_array i\n",
    "            key = scrambled_list[i]\n",
    "            compared_index = i - 1\n",
    "\n",
    "            # as long as the compared index is within the indicies and the key is still smaller\n",
    "            # than the compared value, shift the value up and compare with the previous index\n",
    "            while compared_index >= 0  and key < scrambled_list[compared_index]:\n",
    "                scrambled_list[compared_index + 1] = scrambled_list[compared_index]\n",
    "                compared_index = compared_index - 1\n",
    "            # once the compared value is less than the key or there is no value less than the key,\n",
    "            # set the value after the compared_index to the key (compared index is -1 when there are\n",
    "            # no values less than the key)\n",
    "            scrambled_list[compared_index + 1] = key\n",
    "    else:\n",
    "        for i in range(1, len(scrambled_list)):\n",
    "            # the key is set to sorted_array i\n",
    "            key = scrambled_list[i]\n",
    "            compared_index = i - 1\n",
    "\n",
    "            # as long as the compared index is within the indicies and the key is still smaller\n",
    "            # than the compared value, shift the value up and compare with the previous index\n",
    "            while compared_index >= 0  and key > scrambled_list[compared_index]:\n",
    "                scrambled_list[compared_index + 1] = scrambled_list[compared_index]\n",
    "                compared_index = compared_index - 1\n",
    "            # once the compared value is less than the key or there is no value less than the key,\n",
    "            # set the value after the compared_index to the key (compared index is -1 when there are\n",
    "            # no values less than the key)\n",
    "            scrambled_list[compared_index + 1] = key"
   ],
   "outputs": [],
   "execution_count": 59
  },
  {
   "metadata": {
    "ExecuteTime": {
     "end_time": "2025-09-25T21:50:07.549263Z",
     "start_time": "2025-09-25T21:50:07.543366Z"
    }
   },
   "cell_type": "code",
   "source": [
    "test_list = [5, 3, 4, 2, 1]\n",
    "insertion_sort(test_list)\n",
    "print(test_list)"
   ],
   "id": "d76adccf47d71815",
   "outputs": [
    {
     "name": "stdout",
     "output_type": "stream",
     "text": [
      "[1, 2, 3, 4, 5]\n"
     ]
    }
   ],
   "execution_count": 71
  },
  {
   "metadata": {
    "ExecuteTime": {
     "end_time": "2025-09-25T20:17:49.796754Z",
     "start_time": "2025-09-25T20:17:49.787277Z"
    }
   },
   "cell_type": "code",
   "source": [
    "def selection_sort(scrambled_list: list, asc = True):\n",
    "    if asc:\n",
    "        # sorted_count is the the length of the array that is sorted\n",
    "        for sorted_count in range(len(scrambled_list)):\n",
    "            min_index = sorted_count\n",
    "\n",
    "            # Starting at where the array is unsorted find the smallest value and its index\n",
    "            for current_index in range(min_index, len(scrambled_list)):\n",
    "\n",
    "                #if current value is less than min_value update the min value\n",
    "                if scrambled_list[current_index] < scrambled_list[min_index]:\n",
    "                    min_index = current_index\n",
    "\n",
    "            #if the min index was updated, swap the values\n",
    "            if min_index != sorted_count:\n",
    "                temp = scrambled_list[min_index]\n",
    "                scrambled_list[min_index] = scrambled_list[sorted_count]\n",
    "                scrambled_list[sorted_count] = temp\n",
    "    else:\n",
    "        # sorted_count is the the length of the array that is sorted\n",
    "        for sorted_count in range(len(scrambled_list)):\n",
    "            min_index = sorted_count\n",
    "\n",
    "            # Starting at where the array is unsorted find the smallest value and its index\n",
    "            for current_index in range(min_index, len(scrambled_list)):\n",
    "\n",
    "                #if current value is less than min_value update the min value\n",
    "                if scrambled_list[current_index] > scrambled_list[min_index]:\n",
    "                    min_index = current_index\n",
    "\n",
    "            #if the min index was updated, swap the values\n",
    "            if min_index != sorted_count:\n",
    "                temp = scrambled_list[min_index]\n",
    "                scrambled_list[min_index] = scrambled_list[sorted_count]\n",
    "                scrambled_list[sorted_count] = temp\n"
   ],
   "id": "9b0f67c24c048b96",
   "outputs": [],
   "execution_count": 50
  },
  {
   "metadata": {
    "ExecuteTime": {
     "end_time": "2025-09-25T21:49:56.150968Z",
     "start_time": "2025-09-25T21:49:56.144061Z"
    }
   },
   "cell_type": "code",
   "source": [
    "test_list = [5, 3, 4, 2, 1]\n",
    "selection_sort(test_list, False)\n",
    "print(test_list)"
   ],
   "id": "e77a02636c5cde05",
   "outputs": [
    {
     "name": "stdout",
     "output_type": "stream",
     "text": [
      "[5, 4, 3, 2, 1]\n"
     ]
    }
   ],
   "execution_count": 70
  },
  {
   "metadata": {
    "ExecuteTime": {
     "end_time": "2025-09-25T21:47:10.467861Z",
     "start_time": "2025-09-25T21:47:10.459262Z"
    }
   },
   "cell_type": "code",
   "source": [
    "def improved_bubble_sort(scrambled_list: list, asc = True):\n",
    "    length = len(scrambled_list)\n",
    "    if asc:\n",
    "        for iteration in range(length - 1):\n",
    "            unswapped = True\n",
    "\n",
    "            for loc in range(length - iteration - 1):\n",
    "                if scrambled_list[loc] > scrambled_list[loc + 1]:\n",
    "                    (scrambled_list[loc], scrambled_list[loc+1]) = (scrambled_list[loc+1], scrambled_list[loc]) # clean way to swap list entries\n",
    "                    unswapped = False\n",
    "\n",
    "            if unswapped:\n",
    "                break\n",
    "\n",
    "\n",
    "    else:\n",
    "        for iteration in range(length - 1):\n",
    "            unswapped = True\n",
    "\n",
    "            for loc in range(length - iteration - 1):\n",
    "                if scrambled_list[loc] < scrambled_list[loc + 1]:\n",
    "                    (scrambled_list[loc], scrambled_list[loc+1]) = (scrambled_list[loc+1], scrambled_list[loc]) # clean way to swap list entries\n",
    "                    unswapped = False\n",
    "\n",
    "            if unswapped:\n",
    "                break\n"
   ],
   "id": "cd69fb06ce10dcd4",
   "outputs": [],
   "execution_count": 65
  },
  {
   "metadata": {
    "ExecuteTime": {
     "end_time": "2025-09-25T21:49:39.566977Z",
     "start_time": "2025-09-25T21:49:39.560787Z"
    }
   },
   "cell_type": "code",
   "source": [
    "test_list = [5, 3, 4, 2, 1]\n",
    "improved_bubble_sort(test_list)\n",
    "print(test_list)"
   ],
   "id": "8bdbce6873b3da3e",
   "outputs": [
    {
     "name": "stdout",
     "output_type": "stream",
     "text": [
      "[1, 2, 3, 4, 5]\n"
     ]
    }
   ],
   "execution_count": 69
  },
  {
   "metadata": {},
   "cell_type": "code",
   "outputs": [],
   "execution_count": null,
   "source": "",
   "id": "c4819576f170c58a"
  }
 ],
 "metadata": {
  "kernelspec": {
   "display_name": "Python 3",
   "language": "python",
   "name": "python3"
  },
  "language_info": {
   "codemirror_mode": {
    "name": "ipython",
    "version": 2
   },
   "file_extension": ".py",
   "mimetype": "text/x-python",
   "name": "python",
   "nbconvert_exporter": "python",
   "pygments_lexer": "ipython2",
   "version": "2.7.6"
  }
 },
 "nbformat": 4,
 "nbformat_minor": 5
}
