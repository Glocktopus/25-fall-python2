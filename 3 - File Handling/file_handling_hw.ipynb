{
 "cells": [
  {
   "cell_type": "code",
   "execution_count": 27,
   "id": "e5699d69",
   "metadata": {},
   "outputs": [],
   "source": [
    "def histogram(string_list:list[str]) -> dict:\n",
    "    local_list = string_list\n",
    "    hist = {}\n",
    "    for string in local_list:\n",
    "        if string in hist:\n",
    "            hist[string] += 1\n",
    "        else:\n",
    "            hist[string] = 1\n",
    "    return hist"
   ]
  },
  {
   "cell_type": "code",
   "execution_count": 28,
   "id": "79437a79",
   "metadata": {},
   "outputs": [],
   "source": [
    "def anagram (word_parameter:str):\n",
    "    \n",
    "    word = histogram(list(word_parameter))\n",
    "    print(\"check\")\n",
    "    anagram_list = []\n",
    "    with open(\"words.txt\", 'r') as file:\n",
    "        for line in file:\n",
    "            line_histogram = histogram(list(line.strip()))\n",
    "            if word == line_histogram:\n",
    "                anagram_list.append(line.strip())\n",
    "                \n",
    "    with open(\"output.txt\", 'w') as file:\n",
    "        for word in anagram_list:\n",
    "            file.write(f\"{word}\\n\")\n",
    "        \n"
   ]
  },
  {
   "cell_type": "code",
   "execution_count": 30,
   "id": "47d6f4b3",
   "metadata": {},
   "outputs": [
    {
     "name": "stdout",
     "output_type": "stream",
     "text": [
      "check\n"
     ]
    }
   ],
   "source": [
    "ana_list = anagram(\"pots\")"
   ]
  },
  {
   "cell_type": "code",
   "execution_count": null,
   "id": "37f81680",
   "metadata": {},
   "outputs": [],
   "source": [
    "def heteropalindrome():\n",
    "    # Creates a dictionary where key is the first letter, last letter and word length\n",
    "    # And the value is a list of words with that key\n",
    "\n",
    "    potential_hetpal = {}\n",
    "    with open('/workspaces/25-fall-python2/3 - File Handling/words.txt', 'r') as file:\n",
    "        for line in file:\n",
    "            word = line.strip()\n",
    "            key = word[0] + word[-1] + str(len(word))\n",
    "            if key in potential_hetpal:\n",
    "                potential_hetpal[key].append(word)\n",
    "            else:\n",
    "                potential_hetpal[key] = [word]\n",
    "    # iterates through the dictionary keys and reverses the keys letters to get a list of potential palindromes\n",
    "    # two words are potential palindromes it saves them in a list of pairs\n",
    "    used_keys = []\n",
    "    final_pairs = []\n",
    "    for key in potential_hetpal:\n",
    "        if not(key in used_keys):\n",
    "            reversed_key = key[1] + key[0] + key[2]\n",
    "            if reversed_key in potential_hetpal and not (reversed_key in used_keys):\n",
    "                used_keys.append(reversed_key)\n",
    "                used_keys.append(key)\n",
    "\n",
    "                for first_word in potential_hetpal[key]:\n",
    "                    reversed_word = ''\n",
    "                    for i in reversed(range(len(first_word))):\n",
    "                        reversed_word += first_word[i]\n",
    "                    if first_word != reversed_word:\n",
    "                        for potential_word in potential_hetpal[reversed_key]:\n",
    "                            if potential_word == reversed_word:\n",
    "                                final_pairs.append((first_word,potential_word))\n",
    "                                break\n",
    "                            \n",
    "    #writes the list of pairs to the output file\n",
    "    with open('/workspaces/25-fall-python2/3 - File Handling/output.txt', 'w') as file:\n",
    "        for pair in final_pairs:\n",
    "            file.write(f\"({pair[0]},{pair[1]})\\n\")\n",
    "\n",
    "\n",
    "\n"
   ]
  },
  {
   "cell_type": "code",
   "execution_count": 24,
   "id": "74f36a75",
   "metadata": {},
   "outputs": [],
   "source": [
    "potential_palindromes = heteropalindrome()\n"
   ]
  },
  {
   "cell_type": "code",
   "execution_count": null,
   "id": "5c854b3e",
   "metadata": {},
   "outputs": [
    {
     "name": "stdout",
     "output_type": "stream",
     "text": [
      "modnar\n"
     ]
    }
   ],
   "source": []
  },
  {
   "cell_type": "code",
   "execution_count": null,
   "id": "59958046",
   "metadata": {},
   "outputs": [],
   "source": []
  }
 ],
 "metadata": {
  "kernelspec": {
   "display_name": "Python 3",
   "language": "python",
   "name": "python3"
  },
  "language_info": {
   "codemirror_mode": {
    "name": "ipython",
    "version": 3
   },
   "file_extension": ".py",
   "mimetype": "text/x-python",
   "name": "python",
   "nbconvert_exporter": "python",
   "pygments_lexer": "ipython3",
   "version": "3.12.1"
  }
 },
 "nbformat": 4,
 "nbformat_minor": 5
}
