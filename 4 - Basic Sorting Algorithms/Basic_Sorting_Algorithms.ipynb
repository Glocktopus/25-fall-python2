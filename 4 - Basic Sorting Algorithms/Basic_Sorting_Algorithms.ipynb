{
 "cells": [
  {
   "cell_type": "code",
   "id": "initial_id",
   "metadata": {
    "collapsed": true,
    "ExecuteTime": {
     "end_time": "2025-09-25T19:23:54.670057Z",
     "start_time": "2025-09-25T19:23:54.665552Z"
    }
   },
   "source": [
    "def insertion_sort(scrambled_list: list) -> list:\n",
    "    sorted_array = scrambled_list\n",
    "\n",
    "    for i in range(1, len(sorted_array)):\n",
    "        # the key is set to sorted_array i\n",
    "        key = sorted_array[i]\n",
    "        compared_index = i - 1\n",
    "\n",
    "        # as long as the compared index is within the indicies and the key is still smaller\n",
    "        # than the compared value, shift the value up and compare with the previous index\n",
    "        while compared_index >= 0  and key < sorted_array[compared_index]:\n",
    "            sorted_array[compared_index + 1] = sorted_array[compared_index]\n",
    "            compared_index = compared_index - 1\n",
    "        # once the compared value is less than the key or there is no value less than the key,\n",
    "        # set the value after the compared_index to the key (compared index is -1 when there are\n",
    "        # no values less than the key)\n",
    "        sorted_array[compared_index + 1] = key\n",
    "\n",
    "    return sorted_array"
   ],
   "outputs": [],
   "execution_count": 15
  },
  {
   "metadata": {
    "ExecuteTime": {
     "end_time": "2025-09-25T19:23:55.065418Z",
     "start_time": "2025-09-25T19:23:55.061314Z"
    }
   },
   "cell_type": "code",
   "source": "insertion_sort([5,4,3,2,1])",
   "id": "d76adccf47d71815",
   "outputs": [
    {
     "data": {
      "text/plain": [
       "[1, 2, 3, 4, 5]"
      ]
     },
     "execution_count": 16,
     "metadata": {},
     "output_type": "execute_result"
    }
   ],
   "execution_count": 16
  },
  {
   "metadata": {
    "ExecuteTime": {
     "end_time": "2025-09-25T20:00:05.854108Z",
     "start_time": "2025-09-25T20:00:05.849724Z"
    }
   },
   "cell_type": "code",
   "source": [
    "def selection_sort(scrambled_list: list) -> list:\n",
    "    # sorted_count is the the length of the array that is sorted\n",
    "    for sorted_count in range(len(scrambled_list)):\n",
    "        min_index = sorted_count\n",
    "\n",
    "        # Starting at where the array is unsorted find the smallest value and its index\n",
    "        for current_index in range(min_index, len(scrambled_list)):\n",
    "\n",
    "            #if current value is less than min_value update the min value\n",
    "            if scrambled_list[current_index] < scrambled_list[min_index]:\n",
    "                min_index = current_index\n",
    "\n",
    "        #if the min index was updated, swap the values\n",
    "        if min_index != sorted_count:\n",
    "            temp = scrambled_list[min_index]\n",
    "            scrambled_list[min_index] = scrambled_list[sorted_count]\n",
    "            scrambled_list[sorted_count] = temp\n",
    "\n",
    "\n",
    "    return scrambled_list"
   ],
   "id": "9b0f67c24c048b96",
   "outputs": [],
   "execution_count": 32
  },
  {
   "metadata": {
    "ExecuteTime": {
     "end_time": "2025-09-25T20:00:07.126949Z",
     "start_time": "2025-09-25T20:00:07.122374Z"
    }
   },
   "cell_type": "code",
   "source": "selection_sort([5,4,3,2,1])",
   "id": "e77a02636c5cde05",
   "outputs": [
    {
     "data": {
      "text/plain": [
       "[1, 2, 3, 4, 5]"
      ]
     },
     "execution_count": 33,
     "metadata": {},
     "output_type": "execute_result"
    }
   ],
   "execution_count": 33
  },
  {
   "metadata": {
    "ExecuteTime": {
     "end_time": "2025-09-25T20:11:28.962172Z",
     "start_time": "2025-09-25T20:11:28.957253Z"
    }
   },
   "cell_type": "code",
   "source": [
    "def improved_bubble_sort(scrambled_list: list) -> list:\n",
    "    length = len(scrambled_list)\n",
    "\n",
    "    for iteration in range(length - 1):\n",
    "        unswapped = True\n",
    "\n",
    "        for loc in range(length - iteration - 1):\n",
    "            if scrambled_list[loc] > scrambled_list[loc + 1]:\n",
    "                (scrambled_list[loc], scrambled_list[loc+1]) = (scrambled_list[loc+1], scrambled_list[loc]) # clean way to swap list entries\n",
    "                unswapped = False\n",
    "\n",
    "        if unswapped:\n",
    "            return scrambled_list\n",
    "\n",
    "    return scrambled_list\n"
   ],
   "id": "cd69fb06ce10dcd4",
   "outputs": [],
   "execution_count": 38
  },
  {
   "metadata": {
    "ExecuteTime": {
     "end_time": "2025-09-25T20:11:29.348587Z",
     "start_time": "2025-09-25T20:11:29.344686Z"
    }
   },
   "cell_type": "code",
   "source": "improved_bubble_sort([5,4,3,2,1])",
   "id": "8bdbce6873b3da3e",
   "outputs": [
    {
     "data": {
      "text/plain": [
       "[1, 2, 3, 4, 5]"
      ]
     },
     "execution_count": 39,
     "metadata": {},
     "output_type": "execute_result"
    }
   ],
   "execution_count": 39
  },
  {
   "metadata": {},
   "cell_type": "code",
   "outputs": [],
   "execution_count": null,
   "source": "",
   "id": "c4819576f170c58a"
  }
 ],
 "metadata": {
  "kernelspec": {
   "display_name": "Python 3",
   "language": "python",
   "name": "python3"
  },
  "language_info": {
   "codemirror_mode": {
    "name": "ipython",
    "version": 2
   },
   "file_extension": ".py",
   "mimetype": "text/x-python",
   "name": "python",
   "nbconvert_exporter": "python",
   "pygments_lexer": "ipython2",
   "version": "2.7.6"
  }
 },
 "nbformat": 4,
 "nbformat_minor": 5
}
