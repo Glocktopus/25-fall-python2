{
 "cells": [
  {
   "cell_type": "code",
   "execution_count": 2,
   "id": "32685970",
   "metadata": {},
   "outputs": [],
   "source": [
    "from math import sqrt\n",
    "\n",
    "def is_perfect(number: int) -> bool:\n",
    " \"\"\"\n",
    " :param number: integer\n",
    "\n",
    " :return: bool\n",
    "\n",
    " :desc: returns true or false if the param number is the sum of its proper divisors\n",
    " \"\"\"\n",
    "\n",
    " perfect = False\n",
    "\n",
    " if number > 1:\n",
    "    sum = 1\n",
    "    for divisor in range(2, int(sqrt(number)+1)):\n",
    "      if number%divisor == 0:\n",
    "        sum += divisor + (number//divisor)\n",
    "    perfect = (number == sum)\n",
    "\n",
    " return perfect\n"
   ]
  },
  {
   "cell_type": "code",
   "execution_count": 5,
   "id": "c0bc7c09",
   "metadata": {},
   "outputs": [
    {
     "name": "stdout",
     "output_type": "stream",
     "text": [
      "False\n",
      "True\n",
      "True\n"
     ]
    }
   ],
   "source": [
    "print(is_perfect(100))\n",
    "print(is_perfect(496))\n",
    "print(is_perfect(8128))"
   ]
  },
  {
   "cell_type": "code",
   "execution_count": 6,
   "id": "c29b7718",
   "metadata": {},
   "outputs": [],
   "source": [
    "def gcd(lil_num:int, big_num:int) ->int:\n",
    "  \"\"\"\n",
    "  :param lil_num: int\n",
    "  :param big_num: int\n",
    "\n",
    "  :return: int\n",
    "\n",
    "  :desc: returns the greatest common divisor of the two inputs\n",
    "  \"\"\"\n",
    "  \n",
    "  for divisor in reversed(range(2, int(sqrt(lil_num)+1))):\n",
    "    if lil_num%divisor == 0:\n",
    "      if big_num%divisor == 0:\n",
    "        return divisor\n",
    "        \n",
    "  return(1)\n",
    "\n",
    "  "
   ]
  },
  {
   "cell_type": "code",
   "execution_count": 7,
   "id": "8ca7bc94",
   "metadata": {},
   "outputs": [],
   "source": [
    "def lcm (num_1: int, num_2: int) -> int:\n",
    "    \"\"\"\n",
    "    :param num_1: int\n",
    "    :param num_2: int\n",
    "\n",
    "    :return: int\n",
    "\n",
    "    :desc: returns the least common multiple of the two inputs\n",
    "    \"\"\"\n",
    "    if num_1%num_2 == 0:\n",
    "        return num_1\n",
    "    elif num_2%num_1 ==0:\n",
    "        return num_2\n",
    "    else:\n",
    "        multiple = num_1 * num_2\n",
    "        small_num = min(num_1,num_2)\n",
    "        big_num = max(num_1,num_2)\n",
    "        greatest_common_divisor = gcd(small_num,big_num)\n",
    "        return multiple/greatest_common_divisor\n",
    "    "
   ]
  },
  {
   "cell_type": "code",
   "execution_count": 9,
   "id": "e19b9998",
   "metadata": {},
   "outputs": [
    {
     "name": "stdout",
     "output_type": "stream",
     "text": [
      "30.0\n",
      "30.0\n",
      "30\n"
     ]
    }
   ],
   "source": [
    "print(lcm(6,10))\n",
    "print(lcm(3,10))\n",
    "print(lcm(30,10))"
   ]
  },
  {
   "cell_type": "code",
   "execution_count": null,
   "id": "a68651d0",
   "metadata": {},
   "outputs": [
    {
     "data": {
      "text/plain": [
       "0"
      ]
     },
     "execution_count": 42,
     "metadata": {},
     "output_type": "execute_result"
    }
   ],
   "source": []
  },
  {
   "cell_type": "code",
   "execution_count": null,
   "id": "697ab180",
   "metadata": {},
   "outputs": [],
   "source": []
  }
 ],
 "metadata": {
  "kernelspec": {
   "display_name": "Python 3",
   "language": "python",
   "name": "python3"
  },
  "language_info": {
   "codemirror_mode": {
    "name": "ipython",
    "version": 3
   },
   "file_extension": ".py",
   "mimetype": "text/x-python",
   "name": "python",
   "nbconvert_exporter": "python",
   "pygments_lexer": "ipython3",
   "version": "3.12.1"
  }
 },
 "nbformat": 4,
 "nbformat_minor": 5
}
