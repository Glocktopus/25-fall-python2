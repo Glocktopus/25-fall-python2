{
 "cells": [
  {
   "cell_type": "code",
   "execution_count": null,
   "id": "32685970",
   "metadata": {},
   "outputs": [],
   "source": [
    "from math import sqrt\n",
    "\n",
    "def is_perfect(number: int) -> bool:\n",
    " perfect = False\n",
    "\n",
    " if number > 1:\n",
    "    sum = 1\n",
    "    for divisor in range(2, int(sqrt(number)+1)):\n",
    "      if number%divisor == 0:\n",
    "        sum += divisor + (number//divisor)\n",
    "    perfect = (number == sum)\n",
    "\n",
    " return perfect\n"
   ]
  },
  {
   "cell_type": "code",
   "execution_count": 37,
   "id": "c0bc7c09",
   "metadata": {},
   "outputs": [
    {
     "data": {
      "text/plain": [
       "True"
      ]
     },
     "execution_count": 39,
     "metadata": {},
     "output_type": "execute_result"
    }
   ],
   "source": [
    "is_perfect(8128)"
   ]
  },
  {
   "cell_type": "code",
   "execution_count": 50,
   "id": "c29b7718",
   "metadata": {},
   "outputs": [],
   "source": [
    "def gcd(lil_num:int, big_num:int) ->int:\n",
    "    lil_divisors = [1]\n",
    "    \n",
    "    for divisor in range(2, int(sqrt(lil_num)+1)):\n",
    "      if lil_num%divisor == 0:\n",
    "        lil_divisors.append(divisor)\n",
    "      lil_divisors.append(lil_num)\n",
    "\n",
    "    for divisor in reversed(lil_divisors):\n",
    "       if big_num%divisor == 0:\n",
    "          return divisor\n",
    "    "
   ]
  },
  {
   "cell_type": "code",
   "execution_count": 58,
   "id": "8ca7bc94",
   "metadata": {},
   "outputs": [],
   "source": [
    "def lcm (num_1: int, num_2: int) -> int:\n",
    "    if num_1%num_2 == 0:\n",
    "        return num_1\n",
    "    elif num_2%num_1 ==0:\n",
    "        return num_2\n",
    "    else:\n",
    "        multiple = num_1 * num_2\n",
    "        small_num = min(num_1,num_2)\n",
    "        big_num = max(num_1,num_2)\n",
    "        greatest_common_divisor = gcd(small_num,big_num)\n",
    "        return multiple/greatest_common_divisor\n",
    "    "
   ]
  },
  {
   "cell_type": "code",
   "execution_count": 66,
   "id": "e19b9998",
   "metadata": {},
   "outputs": [
    {
     "data": {
      "text/plain": [
       "160.0"
      ]
     },
     "execution_count": 66,
     "metadata": {},
     "output_type": "execute_result"
    }
   ],
   "source": [
    "lcm(40,16)"
   ]
  },
  {
   "cell_type": "code",
   "execution_count": 42,
   "id": "a68651d0",
   "metadata": {},
   "outputs": [
    {
     "data": {
      "text/plain": [
       "0"
      ]
     },
     "execution_count": 42,
     "metadata": {},
     "output_type": "execute_result"
    }
   ],
   "source": [
    "30%10"
   ]
  },
  {
   "cell_type": "code",
   "execution_count": null,
   "id": "697ab180",
   "metadata": {},
   "outputs": [],
   "source": []
  }
 ],
 "metadata": {
  "kernelspec": {
   "display_name": "Python 3",
   "language": "python",
   "name": "python3"
  },
  "language_info": {
   "codemirror_mode": {
    "name": "ipython",
    "version": 3
   },
   "file_extension": ".py",
   "mimetype": "text/x-python",
   "name": "python",
   "nbconvert_exporter": "python",
   "pygments_lexer": "ipython3",
   "version": "3.12.1"
  }
 },
 "nbformat": 4,
 "nbformat_minor": 5
}
